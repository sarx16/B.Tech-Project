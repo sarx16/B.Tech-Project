{
  "nbformat": 4,
  "nbformat_minor": 0,
  "metadata": {
    "colab": {
      "provenance": []
    },
    "kernelspec": {
      "name": "python3",
      "display_name": "Python 3"
    },
    "language_info": {
      "name": "python"
    }
  },
  "cells": [
    {
      "cell_type": "code",
      "source": [],
      "metadata": {
        "id": "BIE8EOp4rzuO"
      },
      "execution_count": null,
      "outputs": []
    },
    {
      "cell_type": "code",
      "source": [
        "#pip install gym[classic_control]"
      ],
      "metadata": {
        "id": "rNr1GTverw0Y"
      },
      "execution_count": null,
      "outputs": []
    },
    {
      "cell_type": "code",
      "execution_count": null,
      "metadata": {
        "id": "QSR47uI2hAz1"
      },
      "outputs": [],
      "source": [
        "from sklearn.preprocessing import KBinsDiscretizer\n",
        "import numpy as np\n",
        "import time, math, random\n",
        "from typing import Tuple\n",
        "\n",
        "# import gym\n",
        "import gym"
      ]
    },
    {
      "cell_type": "code",
      "source": [
        "env = gym.make('CartPole-v1')"
      ],
      "metadata": {
        "id": "XjVTDrENn_GJ"
      },
      "execution_count": null,
      "outputs": []
    },
    {
      "cell_type": "code",
      "source": [
        "g = 9.8\n",
        "mk = 1.0\n",
        "mp = 0.1\n",
        "lp = 0.5\n",
        "mt = mp + mk"
      ],
      "metadata": {
        "id": "nTZ6NwlGs5Sm"
      },
      "execution_count": null,
      "outputs": []
    },
    {
      "cell_type": "code",
      "source": [
        "# state matrix\n",
        "a = g/(lp*(4.0/3 - mp/(mp+mk)))\n",
        "A = np.array([[0, 1, 0, 0],\n",
        "              [0, 0, a, 0],\n",
        "              [0, 0, 0, 1],\n",
        "              [0, 0, a, 0]])\n",
        "\n",
        "# input matrix\n",
        "b = -1/(lp*(4.0/3 - mp/(mp+mk)))\n",
        "B = np.array([[0], [1/mt], [0], [b]])"
      ],
      "metadata": {
        "id": "aEAiQKEGodpq"
      },
      "execution_count": null,
      "outputs": []
    },
    {
      "cell_type": "code",
      "source": [
        "R = np.eye(1, dtype=int)          # choose R (weight for input)\n",
        "Q = 5*np.eye(4, dtype=int)        # choose Q (weight for state)\n",
        "\n",
        "# get riccati solver\n",
        "from scipy import linalg\n",
        "\n",
        "# solve ricatti equation\n",
        "P = linalg.solve_continuous_are(A, B, Q, R)\n",
        "\n",
        "# calculate optimal controller gain\n",
        "K = np.dot(np.linalg.inv(R),\n",
        "           np.dot(B.T, P))"
      ],
      "metadata": {
        "id": "Sq4Mxy3XsIfs"
      },
      "execution_count": null,
      "outputs": []
    },
    {
      "cell_type": "code",
      "source": [
        "def apply_state_controller(K, x):\n",
        "    # feedback controller\n",
        "    u = -np.dot(K, x)   # u = -Kx\n",
        "    if u > 0:\n",
        "        return 1, u     # if force_dem > 0 -> move cart right\n",
        "    else:\n",
        "        return 0, u     # if force_dem <= 0 -> move cart left"
      ],
      "metadata": {
        "id": "iT-Qf1oXtaXt"
      },
      "execution_count": null,
      "outputs": []
    },
    {
      "cell_type": "code",
      "source": [
        "# import os\n",
        "# os.environ[\"SDL_VIDEODRIVER\"] = \"dummy\"\n",
        "# import pygame\n",
        "# pygame.display.set_mode((640,480))"
      ],
      "metadata": {
        "id": "F1QN8e7mui23"
      },
      "execution_count": null,
      "outputs": []
    },
    {
      "cell_type": "code",
      "source": [
        "# get environment\n",
        "env = gym.make('CartPole-v1')\n",
        "env.env.seed(1)     # seed for reproducibility\n",
        "obs = env.reset()\n",
        "\n",
        "arr1 = []\n",
        "arr2 = []\n",
        "for i in range(1000):\n",
        "    if i>990:\n",
        "      print('hwllo')\n",
        "    #env.render()\n",
        "\n",
        "    # get force direction (action) and force value (force)\n",
        "    action, force = apply_state_controller(K, obs)\n",
        "\n",
        "    # absolute value, since 'action' determines the sign, F_min = -10N, F_max = 10N\n",
        "    abs_force = abs(float(np.clip(force, -10, 10)))\n",
        "\n",
        "    # change magnitute of the applied force in CartPole\n",
        "    env.env.force_mag = abs_force\n",
        "\n",
        "    # apply action\n",
        "    obs, reward, done, _ = env.step(action)\n",
        "    arr1.append(obs[2])\n",
        "    arr2.append(i)\n",
        "    if done:\n",
        "        print(f'Terminated after {i+1} iterations.')\n",
        "        break\n",
        "\n",
        "env.close()"
      ],
      "metadata": {
        "colab": {
          "base_uri": "https://localhost:8080/"
        },
        "id": "M-YuIY3Mtf97",
        "outputId": "a3505b78-d2c2-449c-f172-b9def9927616"
      },
      "execution_count": null,
      "outputs": [
        {
          "output_type": "stream",
          "name": "stdout",
          "text": [
            "Terminated after 500 iterations.\n"
          ]
        }
      ]
    },
    {
      "cell_type": "code",
      "source": [
        "import matplotlib.pyplot as plt\n",
        "plt.plot(arr2,arr1)"
      ],
      "metadata": {
        "colab": {
          "base_uri": "https://localhost:8080/",
          "height": 282
        },
        "id": "MCrEMFA70Mi5",
        "outputId": "a900a175-c376-4b43-b5ee-10a10861a3d6"
      },
      "execution_count": null,
      "outputs": [
        {
          "output_type": "execute_result",
          "data": {
            "text/plain": [
              "[<matplotlib.lines.Line2D at 0x7ff361024510>]"
            ]
          },
          "metadata": {},
          "execution_count": 84
        },
        {
          "output_type": "display_data",
          "data": {
            "text/plain": [
              "<Figure size 432x288 with 1 Axes>"
            ],
            "image/png": "[encoded data removed]"
          },
          "metadata": {
            "needs_background": "light"
          }
        }
      ]
    },
    {
      "cell_type": "code",
      "source": [
        "import gym\n",
        "import numpy as np\n",
        "import random\n",
        "import math\n",
        "from time import sleep\n",
        "\n",
        "## Result: https://gym.openai.com/evaluations/eval_QykiR71DR0mpXEXslkpDLQ\n",
        "\n",
        "## Initialize the \"Cart-Pole\" environment\n",
        "env = gym.make('CartPole-v0')\n",
        "\n",
        "## Defining the environment related constants\n",
        "\n",
        "# Number of discrete states (bucket) per state dimension\n",
        "NUM_BUCKETS = (1, 1, 6, 3)  # (x, x', theta, theta')\n",
        "# Number of discrete actions\n",
        "# NUM_ACTIONS = env.action_space.n # (left, right)\n",
        "NUM_ACTIONS = 5 # (left, right)\n",
        "# Bounds for each discrete state\n",
        "STATE_BOUNDS = list(zip(env.observation_space.low, env.observation_space.high))\n",
        "# Manually setting bounds (needed for the x_dot and theta_dot)\n",
        "#STATE_BOUNDS[0] = [STATE_BOUNDS[0][0]/2, STATE_BOUNDS[0][1]/2]\n",
        "STATE_BOUNDS[1] = [-0.5, 0.5]\n",
        "#STATE_BOUNDS[2] = [STATE_BOUNDS[2][0]/2, STATE_BOUNDS[2][0]/2]\n",
        "STATE_BOUNDS[3] = [-math.radians(50), math.radians(50)]\n",
        "\n",
        "## Creating a Q-Table for each state-action pair\n",
        "q_table = np.zeros(NUM_BUCKETS + (NUM_ACTIONS,))\n",
        "\n",
        "## Learning related constants\n",
        "MIN_EXPLORE_RATE = 0.01\n",
        "MIN_LEARNING_RATE = 0.2\n",
        "\n",
        "# Defining the simulation related constants\n",
        "NUM_EPISODES = 1000\n",
        "MAX_T = 250\n",
        "STREAK_TO_END = 120\n",
        "SOLVED_T = 199\n",
        "DEBUG_MODE = False\n",
        "ENABLE_UPLOAD = False\n",
        "\n",
        "\n",
        "if ENABLE_UPLOAD:\n",
        "    env.monitor.start('/tmp/cart_pole_q_learning_4D', force=True)\n",
        "\n",
        "\n",
        "def simulate():\n",
        "\n",
        "    ## Instantiating the learning related parameters\n",
        "    learning_rate = get_learning_rate(0)\n",
        "    explore_rate = get_explore_rate(0)\n",
        "    discount_factor = 0.999  # since the world is unchanging\n",
        "\n",
        "    num_streaks = 0\n",
        "\n",
        "\n",
        "    for episode in range(NUM_EPISODES):\n",
        "\n",
        "        # Reset the environment\n",
        "        obv = env.reset()\n",
        "\n",
        "        # the initial state\n",
        "        state_0 = state_to_bucket(obv)\n",
        "\n",
        "        for t in range(MAX_T):\n",
        "            # env.render()\n",
        "\n",
        "            # Select an action\n",
        "            action = select_action(state_0, explore_rate)\n",
        "\n",
        "            # Execute the action\n",
        "            actionArr = [[0,10],[1,10],[0,5],[1,5],[0,0]]\n",
        "\n",
        "            temp = env.force_mag\n",
        "            env.force_mag = actionArr[action][1]\n",
        "            obv, reward, done, _ = env.step(actionArr[action][0])\n",
        "            env.force_mag = temp\n",
        "\n",
        "            # Observe the result\n",
        "            state = state_to_bucket(obv)\n",
        "\n",
        "            # Update the Q based on the result\n",
        "            best_q = np.amax(q_table[state])\n",
        "            q_table[state_0 + (action,)] += learning_rate*(reward + discount_factor*(best_q) - q_table[state_0 + (action,)])\n",
        "\n",
        "            # Setting up for the next iteration\n",
        "            state_0 = state\n",
        "\n",
        "            # Print data\n",
        "            if (DEBUG_MODE):\n",
        "                print(\"\\nEpisode = %d\" % episode)\n",
        "                print(\"t = %d\" % t)\n",
        "                print(\"Action: %d\" % action)\n",
        "                print(\"State: %s\" % str(state))\n",
        "                print(\"Reward: %f\" % reward)\n",
        "                print(\"Best Q: %f\" % best_q)\n",
        "                print(\"Explore rate: %f\" % explore_rate)\n",
        "                print(\"Learning rate: %f\" % learning_rate)\n",
        "                print(\"Streaks: %d\" % num_streaks)\n",
        "\n",
        "                print(\"\")\n",
        "\n",
        "            if done:\n",
        "                print(\"Episode %d finished after %f time steps\" % (episode, t))\n",
        "\n",
        "                if t >= SOLVED_T:\n",
        "                    num_streaks += 1\n",
        "                else:\n",
        "                    num_streaks = 0\n",
        "                break\n",
        "\n",
        "        #sleep(0.25)\n",
        "\n",
        "        # It's considered done when it's solved over 120 times consecutively\n",
        "        if num_streaks > STREAK_TO_END:\n",
        "            break\n",
        "\n",
        "        # Update parameters\n",
        "        explore_rate = get_explore_rate(episode)\n",
        "        learning_rate = get_learning_rate(episode)\n",
        "\n",
        "    if ENABLE_UPLOAD:\n",
        "        env.monitor.close()\n",
        "        gym.upload('/tmp/cart_pole_q_learning_4D',\n",
        "                   api_key='sk_93AMQvdmReWCi8pdL4m6Q')\n",
        "\n",
        "\n",
        "def select_action(state, explore_rate):\n",
        "    # Select a random action\n",
        "    if random.random() < explore_rate:\n",
        "        action = random.choice([0,1,2,3,4])\n",
        "    # Select the action with the highest q\n",
        "    else:\n",
        "        action = np.argmax(q_table[state])\n",
        "    return action\n",
        "\n",
        "\n",
        "def get_explore_rate(t):\n",
        "    return max(MIN_EXPLORE_RATE, min(1, 1.0 - math.log10((t+1)/25)))\n",
        "\n",
        "def get_learning_rate(t):\n",
        "    return max(MIN_LEARNING_RATE, min(0.5, 1.0 - math.log10((t+1)/25)))\n",
        "\n",
        "def state_to_bucket(state):\n",
        "    bucket_indice = []\n",
        "    for i in range(len(state)):\n",
        "        if state[i] <= STATE_BOUNDS[i][0]:\n",
        "            bucket_index = 0\n",
        "        elif state[i] >= STATE_BOUNDS[i][1]:\n",
        "            bucket_index = NUM_BUCKETS[i] - 1\n",
        "        else:\n",
        "            # Mapping the state bounds to the bucket array\n",
        "            bound_width = STATE_BOUNDS[i][1] - STATE_BOUNDS[i][0]\n",
        "            offset = (NUM_BUCKETS[i]-1)*STATE_BOUNDS[i][0]/bound_width\n",
        "            scaling = (NUM_BUCKETS[i]-1)/bound_width\n",
        "            bucket_index = int(round(scaling*state[i] - offset))\n",
        "        bucket_indice.append(bucket_index)\n",
        "    return tuple(bucket_indice)\n",
        "\n",
        "if __name__ == \"__main__\":\n",
        "    simulate()"
      ],
      "metadata": {
        "colab": {
          "base_uri": "https://localhost:8080/"
        },
        "id": "iaXHbTSLOZZh",
        "outputId": "09acf04e-9363-473e-d9d9-eaaedfdbc9f7"
      },
      "execution_count": null,
      "outputs": [
        {
          "output_type": "stream",
          "name": "stderr",
          "text": [
            "/usr/local/lib/python3.7/dist-packages/gym/envs/registration.py:594: UserWarning: \u001b[33mWARN: The environment CartPole-v0 is out of date. You should consider upgrading to version `v1`.\u001b[0m\n",
            "  f\"The environment {id} is out of date. You should consider \"\n",
            "/usr/local/lib/python3.7/dist-packages/gym/core.py:318: DeprecationWarning: \u001b[33mWARN: Initializing wrapper in old step API which returns one bool instead of two. It is recommended to set `new_step_api=True` to use new step API. This will be the default behaviour in future.\u001b[0m\n",
            "  \"Initializing wrapper in old step API which returns one bool instead of two. It is recommended to set `new_step_api=True` to use new step API. This will be the default behaviour in future.\"\n",
            "/usr/local/lib/python3.7/dist-packages/gym/wrappers/step_api_compatibility.py:40: DeprecationWarning: \u001b[33mWARN: Initializing environment in old step API which returns one bool instead of two. It is recommended to set `new_step_api=True` to use new step API. This will be the default behaviour in future.\u001b[0m\n",
            "  \"Initializing environment in old step API which returns one bool instead of two. It is recommended to set `new_step_api=True` to use new step API. This will be the default behaviour in future.\"\n"
          ]
        },
        {
          "output_type": "stream",
          "name": "stdout",
          "text": [
            "Episode 0 finished after 11.000000 time steps\n",
            "Episode 1 finished after 25.000000 time steps\n",
            "Episode 2 finished after 18.000000 time steps\n",
            "Episode 3 finished after 9.000000 time steps\n",
            "Episode 4 finished after 10.000000 time steps\n",
            "Episode 5 finished after 28.000000 time steps\n",
            "Episode 6 finished after 18.000000 time steps\n",
            "Episode 7 finished after 17.000000 time steps\n",
            "Episode 8 finished after 11.000000 time steps\n",
            "Episode 9 finished after 16.000000 time steps\n",
            "Episode 10 finished after 17.000000 time steps\n",
            "Episode 11 finished after 11.000000 time steps\n",
            "Episode 12 finished after 23.000000 time steps\n",
            "Episode 13 finished after 23.000000 time steps\n",
            "Episode 14 finished after 34.000000 time steps\n",
            "Episode 15 finished after 9.000000 time steps\n",
            "Episode 16 finished after 12.000000 time steps\n",
            "Episode 17 finished after 17.000000 time steps\n",
            "Episode 18 finished after 36.000000 time steps\n",
            "Episode 19 finished after 18.000000 time steps\n",
            "Episode 20 finished after 29.000000 time steps\n",
            "Episode 21 finished after 9.000000 time steps\n",
            "Episode 22 finished after 13.000000 time steps\n",
            "Episode 23 finished after 14.000000 time steps\n",
            "Episode 24 finished after 10.000000 time steps\n",
            "Episode 25 finished after 48.000000 time steps\n",
            "Episode 26 finished after 26.000000 time steps\n",
            "Episode 27 finished after 10.000000 time steps\n",
            "Episode 28 finished after 15.000000 time steps\n",
            "Episode 29 finished after 33.000000 time steps\n",
            "Episode 30 finished after 27.000000 time steps\n",
            "Episode 31 finished after 13.000000 time steps\n",
            "Episode 32 finished after 23.000000 time steps\n",
            "Episode 33 finished after 23.000000 time steps\n",
            "Episode 34 finished after 10.000000 time steps\n",
            "Episode 35 finished after 20.000000 time steps\n",
            "Episode 36 finished after 15.000000 time steps\n",
            "Episode 37 finished after 58.000000 time steps\n",
            "Episode 38 finished after 11.000000 time steps\n",
            "Episode 39 finished after 46.000000 time steps\n",
            "Episode 40 finished after 9.000000 time steps\n",
            "Episode 41 finished after 11.000000 time steps\n",
            "Episode 42 finished after 11.000000 time steps\n",
            "Episode 43 finished after 23.000000 time steps\n",
            "Episode 44 finished after 12.000000 time steps\n",
            "Episode 45 finished after 9.000000 time steps\n",
            "Episode 46 finished after 11.000000 time steps\n",
            "Episode 47 finished after 17.000000 time steps\n",
            "Episode 48 finished after 13.000000 time steps\n",
            "Episode 49 finished after 9.000000 time steps\n",
            "Episode 50 finished after 13.000000 time steps\n",
            "Episode 51 finished after 20.000000 time steps\n",
            "Episode 52 finished after 23.000000 time steps\n",
            "Episode 53 finished after 17.000000 time steps\n",
            "Episode 54 finished after 11.000000 time steps\n",
            "Episode 55 finished after 8.000000 time steps\n",
            "Episode 56 finished after 59.000000 time steps\n",
            "Episode 57 finished after 18.000000 time steps\n",
            "Episode 58 finished after 27.000000 time steps\n",
            "Episode 59 finished after 23.000000 time steps\n",
            "Episode 60 finished after 16.000000 time steps\n",
            "Episode 61 finished after 11.000000 time steps\n",
            "Episode 62 finished after 13.000000 time steps\n",
            "Episode 63 finished after 10.000000 time steps\n",
            "Episode 64 finished after 8.000000 time steps\n",
            "Episode 65 finished after 14.000000 time steps\n",
            "Episode 66 finished after 18.000000 time steps\n",
            "Episode 67 finished after 39.000000 time steps\n",
            "Episode 68 finished after 36.000000 time steps\n",
            "Episode 69 finished after 14.000000 time steps\n",
            "Episode 70 finished after 15.000000 time steps\n",
            "Episode 71 finished after 15.000000 time steps\n",
            "Episode 72 finished after 18.000000 time steps\n",
            "Episode 73 finished after 15.000000 time steps\n",
            "Episode 74 finished after 25.000000 time steps\n",
            "Episode 75 finished after 22.000000 time steps\n",
            "Episode 76 finished after 13.000000 time steps\n",
            "Episode 77 finished after 10.000000 time steps\n",
            "Episode 78 finished after 22.000000 time steps\n",
            "Episode 79 finished after 12.000000 time steps\n",
            "Episode 80 finished after 11.000000 time steps\n",
            "Episode 81 finished after 11.000000 time steps\n",
            "Episode 82 finished after 35.000000 time steps\n",
            "Episode 83 finished after 26.000000 time steps\n",
            "Episode 84 finished after 12.000000 time steps\n",
            "Episode 85 finished after 8.000000 time steps\n",
            "Episode 86 finished after 9.000000 time steps\n",
            "Episode 87 finished after 15.000000 time steps\n",
            "Episode 88 finished after 44.000000 time steps\n",
            "Episode 89 finished after 28.000000 time steps\n",
            "Episode 90 finished after 16.000000 time steps\n",
            "Episode 91 finished after 27.000000 time steps\n",
            "Episode 92 finished after 134.000000 time steps\n",
            "Episode 93 finished after 31.000000 time steps\n",
            "Episode 94 finished after 12.000000 time steps\n",
            "Episode 95 finished after 28.000000 time steps\n",
            "Episode 96 finished after 14.000000 time steps\n",
            "Episode 97 finished after 12.000000 time steps\n",
            "Episode 98 finished after 12.000000 time steps\n",
            "Episode 99 finished after 8.000000 time steps\n",
            "Episode 100 finished after 13.000000 time steps\n",
            "Episode 101 finished after 35.000000 time steps\n",
            "Episode 102 finished after 62.000000 time steps\n",
            "Episode 103 finished after 62.000000 time steps\n",
            "Episode 104 finished after 12.000000 time steps\n",
            "Episode 105 finished after 18.000000 time steps\n",
            "Episode 106 finished after 185.000000 time steps\n",
            "Episode 107 finished after 29.000000 time steps\n",
            "Episode 108 finished after 22.000000 time steps\n",
            "Episode 109 finished after 14.000000 time steps\n",
            "Episode 110 finished after 12.000000 time steps\n",
            "Episode 111 finished after 28.000000 time steps\n",
            "Episode 112 finished after 30.000000 time steps\n",
            "Episode 113 finished after 9.000000 time steps\n",
            "Episode 114 finished after 199.000000 time steps\n",
            "Episode 115 finished after 199.000000 time steps\n",
            "Episode 116 finished after 157.000000 time steps\n",
            "Episode 117 finished after 19.000000 time steps\n",
            "Episode 118 finished after 17.000000 time steps\n",
            "Episode 119 finished after 16.000000 time steps\n",
            "Episode 120 finished after 9.000000 time steps\n",
            "Episode 121 finished after 199.000000 time steps\n",
            "Episode 122 finished after 36.000000 time steps\n",
            "Episode 123 finished after 18.000000 time steps\n",
            "Episode 124 finished after 14.000000 time steps\n",
            "Episode 125 finished after 21.000000 time steps\n",
            "Episode 126 finished after 199.000000 time steps\n",
            "Episode 127 finished after 199.000000 time steps\n",
            "Episode 128 finished after 199.000000 time steps\n",
            "Episode 129 finished after 199.000000 time steps\n",
            "Episode 130 finished after 46.000000 time steps\n",
            "Episode 131 finished after 29.000000 time steps\n",
            "Episode 132 finished after 32.000000 time steps\n",
            "Episode 133 finished after 199.000000 time steps\n",
            "Episode 134 finished after 18.000000 time steps\n",
            "Episode 135 finished after 19.000000 time steps\n",
            "Episode 136 finished after 19.000000 time steps\n",
            "Episode 137 finished after 199.000000 time steps\n",
            "Episode 138 finished after 199.000000 time steps\n",
            "Episode 139 finished after 199.000000 time steps\n",
            "Episode 140 finished after 199.000000 time steps\n",
            "Episode 141 finished after 199.000000 time steps\n",
            "Episode 142 finished after 199.000000 time steps\n",
            "Episode 143 finished after 199.000000 time steps\n",
            "Episode 144 finished after 199.000000 time steps\n",
            "Episode 145 finished after 199.000000 time steps\n",
            "Episode 146 finished after 199.000000 time steps\n",
            "Episode 147 finished after 199.000000 time steps\n",
            "Episode 148 finished after 199.000000 time steps\n",
            "Episode 149 finished after 199.000000 time steps\n",
            "Episode 150 finished after 159.000000 time steps\n",
            "Episode 151 finished after 23.000000 time steps\n",
            "Episode 152 finished after 145.000000 time steps\n",
            "Episode 153 finished after 39.000000 time steps\n",
            "Episode 154 finished after 20.000000 time steps\n",
            "Episode 155 finished after 18.000000 time steps\n",
            "Episode 156 finished after 187.000000 time steps\n",
            "Episode 157 finished after 25.000000 time steps\n",
            "Episode 158 finished after 66.000000 time steps\n",
            "Episode 159 finished after 199.000000 time steps\n",
            "Episode 160 finished after 199.000000 time steps\n",
            "Episode 161 finished after 199.000000 time steps\n",
            "Episode 162 finished after 199.000000 time steps\n",
            "Episode 163 finished after 199.000000 time steps\n",
            "Episode 164 finished after 199.000000 time steps\n",
            "Episode 165 finished after 199.000000 time steps\n",
            "Episode 166 finished after 199.000000 time steps\n",
            "Episode 167 finished after 199.000000 time steps\n",
            "Episode 168 finished after 199.000000 time steps\n",
            "Episode 169 finished after 199.000000 time steps\n",
            "Episode 170 finished after 199.000000 time steps\n",
            "Episode 171 finished after 199.000000 time steps\n",
            "Episode 172 finished after 199.000000 time steps\n",
            "Episode 173 finished after 199.000000 time steps\n",
            "Episode 174 finished after 199.000000 time steps\n",
            "Episode 175 finished after 199.000000 time steps\n",
            "Episode 176 finished after 199.000000 time steps\n",
            "Episode 177 finished after 199.000000 time steps\n",
            "Episode 178 finished after 199.000000 time steps\n",
            "Episode 179 finished after 199.000000 time steps\n",
            "Episode 180 finished after 199.000000 time steps\n",
            "Episode 181 finished after 199.000000 time steps\n",
            "Episode 182 finished after 199.000000 time steps\n",
            "Episode 183 finished after 199.000000 time steps\n",
            "Episode 184 finished after 199.000000 time steps\n",
            "Episode 185 finished after 199.000000 time steps\n",
            "Episode 186 finished after 199.000000 time steps\n",
            "Episode 187 finished after 199.000000 time steps\n",
            "Episode 188 finished after 199.000000 time steps\n",
            "Episode 189 finished after 199.000000 time steps\n",
            "Episode 190 finished after 199.000000 time steps\n",
            "Episode 191 finished after 199.000000 time steps\n",
            "Episode 192 finished after 199.000000 time steps\n",
            "Episode 193 finished after 199.000000 time steps\n",
            "Episode 194 finished after 199.000000 time steps\n",
            "Episode 195 finished after 199.000000 time steps\n",
            "Episode 196 finished after 199.000000 time steps\n",
            "Episode 197 finished after 199.000000 time steps\n",
            "Episode 198 finished after 199.000000 time steps\n",
            "Episode 199 finished after 199.000000 time steps\n",
            "Episode 200 finished after 199.000000 time steps\n",
            "Episode 201 finished after 199.000000 time steps\n",
            "Episode 202 finished after 199.000000 time steps\n",
            "Episode 203 finished after 199.000000 time steps\n",
            "Episode 204 finished after 199.000000 time steps\n",
            "Episode 205 finished after 199.000000 time steps\n",
            "Episode 206 finished after 199.000000 time steps\n",
            "Episode 207 finished after 199.000000 time steps\n",
            "Episode 208 finished after 199.000000 time steps\n",
            "Episode 209 finished after 199.000000 time steps\n",
            "Episode 210 finished after 199.000000 time steps\n",
            "Episode 211 finished after 199.000000 time steps\n",
            "Episode 212 finished after 199.000000 time steps\n",
            "Episode 213 finished after 199.000000 time steps\n",
            "Episode 214 finished after 199.000000 time steps\n",
            "Episode 215 finished after 199.000000 time steps\n",
            "Episode 216 finished after 199.000000 time steps\n",
            "Episode 217 finished after 199.000000 time steps\n",
            "Episode 218 finished after 199.000000 time steps\n",
            "Episode 219 finished after 199.000000 time steps\n",
            "Episode 220 finished after 199.000000 time steps\n",
            "Episode 221 finished after 199.000000 time steps\n",
            "Episode 222 finished after 199.000000 time steps\n",
            "Episode 223 finished after 199.000000 time steps\n",
            "Episode 224 finished after 199.000000 time steps\n",
            "Episode 225 finished after 199.000000 time steps\n",
            "Episode 226 finished after 199.000000 time steps\n",
            "Episode 227 finished after 199.000000 time steps\n",
            "Episode 228 finished after 199.000000 time steps\n",
            "Episode 229 finished after 199.000000 time steps\n",
            "Episode 230 finished after 199.000000 time steps\n",
            "Episode 231 finished after 199.000000 time steps\n",
            "Episode 232 finished after 199.000000 time steps\n",
            "Episode 233 finished after 199.000000 time steps\n",
            "Episode 234 finished after 199.000000 time steps\n",
            "Episode 235 finished after 199.000000 time steps\n",
            "Episode 236 finished after 199.000000 time steps\n",
            "Episode 237 finished after 199.000000 time steps\n",
            "Episode 238 finished after 199.000000 time steps\n",
            "Episode 239 finished after 199.000000 time steps\n",
            "Episode 240 finished after 199.000000 time steps\n",
            "Episode 241 finished after 199.000000 time steps\n",
            "Episode 242 finished after 199.000000 time steps\n",
            "Episode 243 finished after 199.000000 time steps\n",
            "Episode 244 finished after 199.000000 time steps\n",
            "Episode 245 finished after 199.000000 time steps\n",
            "Episode 246 finished after 199.000000 time steps\n",
            "Episode 247 finished after 199.000000 time steps\n",
            "Episode 248 finished after 199.000000 time steps\n",
            "Episode 249 finished after 199.000000 time steps\n",
            "Episode 250 finished after 199.000000 time steps\n",
            "Episode 251 finished after 199.000000 time steps\n",
            "Episode 252 finished after 199.000000 time steps\n",
            "Episode 253 finished after 199.000000 time steps\n",
            "Episode 254 finished after 199.000000 time steps\n",
            "Episode 255 finished after 199.000000 time steps\n",
            "Episode 256 finished after 199.000000 time steps\n",
            "Episode 257 finished after 199.000000 time steps\n",
            "Episode 258 finished after 199.000000 time steps\n",
            "Episode 259 finished after 199.000000 time steps\n",
            "Episode 260 finished after 199.000000 time steps\n",
            "Episode 261 finished after 199.000000 time steps\n",
            "Episode 262 finished after 199.000000 time steps\n",
            "Episode 263 finished after 199.000000 time steps\n",
            "Episode 264 finished after 199.000000 time steps\n",
            "Episode 265 finished after 199.000000 time steps\n",
            "Episode 266 finished after 199.000000 time steps\n",
            "Episode 267 finished after 199.000000 time steps\n",
            "Episode 268 finished after 199.000000 time steps\n",
            "Episode 269 finished after 199.000000 time steps\n",
            "Episode 270 finished after 199.000000 time steps\n",
            "Episode 271 finished after 199.000000 time steps\n",
            "Episode 272 finished after 199.000000 time steps\n",
            "Episode 273 finished after 199.000000 time steps\n",
            "Episode 274 finished after 199.000000 time steps\n",
            "Episode 275 finished after 199.000000 time steps\n",
            "Episode 276 finished after 199.000000 time steps\n",
            "Episode 277 finished after 199.000000 time steps\n",
            "Episode 278 finished after 199.000000 time steps\n",
            "Episode 279 finished after 199.000000 time steps\n"
          ]
        }
      ]
    },
    {
      "cell_type": "code",
      "source": [
        "#@title Testing\n"
      ],
      "metadata": {
        "id": "tN813QghUzgx"
      },
      "execution_count": null,
      "outputs": []
    },
    {
      "cell_type": "code",
      "source": [
        "learning_rate = get_learning_rate(0)\n",
        "explore_rate = get_explore_rate(0)\n",
        "discount_factor = 0.999  # since the world is unchanging\n",
        "\n",
        "num_streaks = 0"
      ],
      "metadata": {
        "id": "4WCduFBAVfz_"
      },
      "execution_count": null,
      "outputs": []
    },
    {
      "cell_type": "code",
      "source": [
        "arrAngle = []\n",
        "arrEpisode = []\n",
        "obv = env.reset()\n",
        "\n",
        "        # the initial state\n",
        "state_0 = state_to_bucket(obv)\n",
        "\n",
        "arr1 = []\n",
        "arr2 = []\n",
        "\n",
        "for t in range(MAX_T):\n",
        "    # env.render()\n",
        "\n",
        "    # Select an action\n",
        "    action = select_action(state_0, 0)\n",
        "\n",
        "    # Execute the action\n",
        "    actionArr = [[0,10],[1,10],[0,5],[1,5],[0,0]]\n",
        "    arr1.append(((-1)**(actionArr[action][0]))*actionArr[action][1])\n",
        "    temp = env.force_mag\n",
        "    env.force_mag = actionArr[action][1]\n",
        "    obv, reward, done, _ = env.step(actionArr[action][0])\n",
        "    env.force_mag = temp\n",
        "\n",
        "    # Observe the result\n",
        "    state = state_to_bucket(obv)\n",
        "\n",
        "    # Update the Q based on the result\n",
        "\n",
        "    state_0 = state\n",
        "    if obv[2] == 0:\n",
        "      print(\"here \")\n",
        "    arrAngle.append(obv[2])\n",
        "    arrEpisode.append(t)\n",
        "\n",
        "    # Print data\n",
        "    if (DEBUG_MODE):\n",
        "        print(\"\\nEpisode = %d\" % episode)\n",
        "        print(\"t = %d\" % t)\n",
        "        print(\"Action: %d\" % action)\n",
        "        print(\"State: %s\" % str(state))\n",
        "        print(\"Reward: %f\" % reward)\n",
        "        print(\"Best Q: %f\" % best_q)\n",
        "        print(\"Explore rate: %f\" % explore_rate)\n",
        "        print(\"Learning rate: %f\" % learning_rate)\n",
        "        print(\"Streaks: %d\" % num_streaks)\n",
        "\n",
        "        print(\"\")\n",
        "\n",
        "    if done:\n",
        "        print(\"Episode %d finished after %f time steps\" % (1, t))\n",
        "\n",
        "        if t >= SOLVED_T:\n",
        "            num_streaks += 1\n",
        "        else:\n",
        "            num_streaks = 0\n",
        "        break"
      ],
      "metadata": {
        "colab": {
          "base_uri": "https://localhost:8080/"
        },
        "id": "-q5pD5ZMVO9h",
        "outputId": "542bb3aa-ce24-4d62-ca08-e7aba896bcc2"
      },
      "execution_count": null,
      "outputs": [
        {
          "output_type": "stream",
          "name": "stdout",
          "text": [
            "Episode 1 finished after 199.000000 time steps\n"
          ]
        }
      ]
    },
    {
      "cell_type": "code",
      "source": [
        "plt.plot(arrEpisode, arrAngle)\n",
        "#plt.plot(arrEpisode, arr1)"
      ],
      "metadata": {
        "colab": {
          "base_uri": "https://localhost:8080/",
          "height": 285
        },
        "id": "H90zxcIhVy89",
        "outputId": "efde6a9a-9c5b-4053-ae96-c8b9f2303e64"
      },
      "execution_count": null,
      "outputs": [
        {
          "output_type": "execute_result",
          "data": {
            "text/plain": [
              "[<matplotlib.lines.Line2D at 0x7f5bb75e5890>]"
            ]
          },
          "metadata": {},
          "execution_count": 46
        },
        {
          "output_type": "display_data",
          "data": {
            "text/plain": [
              "<Figure size 432x288 with 1 Axes>"
            ],
            "image/png": "[encoded data removed]"
          },
          "metadata": {
            "needs_background": "light"
          }
        }
      ]
    },
    {
      "cell_type": "code",
      "source": [
        "plt.plot(arrEpisode, arr1)"
      ],
      "metadata": {
        "colab": {
          "base_uri": "https://localhost:8080/",
          "height": 282
        },
        "id": "zl8z0PEMdVbS",
        "outputId": "14e1dda6-633b-4db6-c46b-7871b41f0828"
      },
      "execution_count": null,
      "outputs": [
        {
          "output_type": "execute_result",
          "data": {
            "text/plain": [
              "[<matplotlib.lines.Line2D at 0x7f5bb7551d50>]"
            ]
          },
          "metadata": {},
          "execution_count": 47
        },
        {
          "output_type": "display_data",
          "data": {
            "text/plain": [
              "<Figure size 432x288 with 1 Axes>"
            ],
            "image/png": "[encoded data removed]"
          },
          "metadata": {
            "needs_background": "light"
          }
        }
      ]
    },
    {
      "cell_type": "markdown",
      "source": [
        "# Don't Go Below"
      ],
      "metadata": {
        "id": "kkbV0d7jV2f_"
      }
    },
    {
      "cell_type": "code",
      "source": [
        "import gym\n",
        "import numpy as np\n",
        "import random\n",
        "import math\n",
        "from time import sleep\n",
        "\n",
        "# Initialize the \"Cart-Pole\" environment\n",
        "env = gym.make('CartPole-v0')\n",
        "\n",
        "# Defining the environment related constants\n",
        "NUM_STATE = 10\n",
        "NUM_ACTION = env.action_space.n\n",
        "ANGLE_STATE_INDEX = 2\n",
        "ANGLE_BOUND = (-env.theta_threshold_radians*1.2, env.theta_threshold_radians*1.2)\n",
        "MIN_EXPLORE_RATE = 0.1\n",
        "MIN_LEARNING_RATE = 0.1\n",
        "\n",
        "# Defining the simulation related constants\n",
        "NUM_EPISODES = 400\n",
        "MAX_T = 500\n",
        "DEBUG_MODE = True\n",
        "ENABLE_UPLOAD = False\n",
        "\n",
        "# Creating a Q-Table for each action and state pair\n",
        "q_table = np.zeros((NUM_STATE, NUM_ACTION))\n",
        "\n",
        "# Manually inputting the preferred Q-values\n",
        "for state_row in range(len(q_table)):\n",
        "    if state_row  <= len(q_table)/2:\n",
        "        q_table[state_row][0] = 1\n",
        "    else:\n",
        "        q_table[state_row][1] = 1\n",
        "\n",
        "arrAngle = []\n",
        "arrEpisode = []\n",
        "\n",
        "def simulate():\n",
        "\n",
        "    for episode in range(NUM_EPISODES):\n",
        "        # Reset the environment\n",
        "        obv = env.reset()\n",
        "\n",
        "        # the initial state\n",
        "        state_0 = angle_to_bucket(obv[ANGLE_STATE_INDEX])\n",
        "        t_done = 0\n",
        "\n",
        "        for t in range(MAX_T):\n",
        "            # env.render()\n",
        "\n",
        "            # Select an action\n",
        "            action = select_action(state_0, 0)\n",
        "\n",
        "            # Execute the action\n",
        "            obv, reward, done, info = env.step(action)\n",
        "\n",
        "            # Observe the result\n",
        "            angle = obv[ANGLE_STATE_INDEX]\n",
        "            state = angle_to_bucket(angle)\n",
        "\n",
        "            # Setting up for the next iteration\n",
        "            state_0 = state\n",
        "            if not done:\n",
        "                t_done = t\n",
        "\n",
        "            # Print data\n",
        "            # if (DEBUG_MODE):\n",
        "            #     # print(\"\\nEpisode = %d\" % episode)\n",
        "            #     # print(\"t = %d\" % t)\n",
        "            #     # print(\"Action: %d\" % action)\n",
        "            #print(\"Angle: %f\" % angle)\n",
        "            arrAngle.append(angle)\n",
        "            arrEpisode.append(episode)\n",
        "            #     # print(\"State: %d\" % state)\n",
        "            #     # print(\"Reward: %f\" % reward)\n",
        "            #     # print(\"Q Table\")\n",
        "            q_table_t = np.transpose(q_table)\n",
        "            #     # for col in q_table_t:\n",
        "            #     #     for q in col:\n",
        "            #     #         print(\"%.2f\" % q, end=\"  \")\n",
        "            #     #     #print(\"\")\n",
        "\n",
        "            if angle < -env.theta_threshold_radians*2 or angle > env.theta_threshold_radians*2 :\n",
        "               #print(\"Episode %d finished after %f time steps\" % (episode, t_done))\n",
        "               break\n",
        "\n",
        "            #sleep(0.25)\n",
        "\n",
        "\n",
        "def select_action(state, explore_rate):\n",
        "    # Select a random action\n",
        "    if random.random() < explore_rate:\n",
        "        action = env.action_space.sample()\n",
        "    # Select the action with the highest q\n",
        "    else:\n",
        "        action = np.argmax(q_table[state,:])\n",
        "    return action\n",
        "\n",
        "\n",
        "def get_explore_rate(t):\n",
        "    return min(1, MIN_EXPLORE_RATE*NUM_EPISODES/(t+1))\n",
        "\n",
        "def get_learning_rate(t):\n",
        "    return min(0.8, MIN_LEARNING_RATE*NUM_EPISODES/(t+1))\n",
        "\n",
        "\n",
        "def angle_to_bucket(angle):\n",
        "    angle = min(ANGLE_BOUND[1], max(ANGLE_BOUND[0], angle))\n",
        "    return int((angle - ANGLE_BOUND[0])/(ANGLE_BOUND[1] - ANGLE_BOUND[0])*(NUM_STATE-1))\n",
        "\n",
        "\n",
        "def bucket_to_angle(state):\n",
        "\n",
        "    return state / (NUM_STATE-1) * (ANGLE_BOUND[1] - ANGLE_BOUND[0]) + ANGLE_BOUND[0]\n",
        "\n",
        "\n",
        "if __name__ == \"__main__\":\n",
        "    simulate()"
      ],
      "metadata": {
        "id": "e-_iiG3uPjPM"
      },
      "execution_count": null,
      "outputs": []
    },
    {
      "cell_type": "code",
      "source": [
        "import matplotlib.pyplot as plt\n",
        "plt.plot(arrEpisode, arrAngle)"
      ],
      "metadata": {
        "id": "7NcofDP4SizB"
      },
      "execution_count": null,
      "outputs": []
    }
  ]
}