{
  "cells": [
    {
      "cell_type": "markdown",
      "metadata": {
        "id": "Ybe8CY07zp7D"
      },
      "source": [
        "## Scenario - Student in Campus\n",
        "\n",
        "* Rahul is 2022 Entry Electrical Engineering student who just arrived the campus. However he is not currently familiar with the campus. He is very bright student and also a good sports person. \n",
        "\n",
        "As his coach is very strict and punctual and to avoid the punishment of arriving late in the playground he need to find the policy to reach the playground from any point of the campus as fast as possible. \n",
        "\n",
        "As a junior he reach out to us for to help him find that policy. Since we already know reinforcement learning we made a small model of IITD campus to train our agent to find that policy. \n",
        "* We will use Q-learning to accomplish this task!\n",
        "\n",
        "#### Import Required Libraries"
      ]
    },
    {
      "cell_type": "code",
      "execution_count": 1,
      "metadata": {
        "id": "rfdhGGMsw1H7"
      },
      "outputs": [],
      "source": [
        "#import libraries\n",
        "import numpy as np\n",
        "import matplotlib.pyplot as plt\n"
      ]
    },
    {
      "cell_type": "markdown",
      "metadata": {
        "id": "Kq-QPfDnx4Fo"
      },
      "source": [
        "## Define the Environment\n",
        "The environment consists of **states**, **actions**, and **rewards**. States and actions are inputs for the Q-learning AI agent, while the possible actions are the AI agent's outputs.\n",
        "#### States\n",
        "The states in the environment are all of the possible locations within the campus. Some of these locations are for storing items (**black squares**), while other locations are aisles that the robot can use to travel throughout the warehouse (**white squares**). The **green square** indicates the item packaging and shipping area.\n",
        "\n",
        "The black and green squares are **terminal states**!\n",
        "\n",
        "![warehouse map](https://www.danielsoper.com/teaching/img/08-warehouse-map.png)\n",
        "\n",
        "The AI agent's goal is to learn the shortest path between the item packaging area and all of the other locations in the warehouse where the robot is allowed to travel.\n",
        "\n",
        "As shown in the image above, there are 121 possible states (locations) within the warehouse. These states are arranged in a grid containing 11 rows and 11 columns. Each location can hence be identified by its row and column index."
      ]
    },
    {
      "cell_type": "code",
      "execution_count": 2,
      "metadata": {
        "id": "9AdpFVfy6ya9"
      },
      "outputs": [],
      "source": [
        "#define the shape of the environment (i.e., its states)\n",
        "environment_rows = 14\n",
        "environment_columns = 14\n",
        "\n",
        "#Create a 3D numpy array to hold the current Q-values for each state and action pair: Q(s, a) \n",
        "#The array contains 11 rows and 11 columns (to match the shape of the environment), as well as a third \"action\" dimension.\n",
        "#The \"action\" dimension consists of 4 layers that will allow us to keep track of the Q-values for each possible action in\n",
        "#each state (see next cell for a description of possible actions). \n",
        "#The value of each (state, action) pair is initialized to 0.\n",
        "guddy = np.zeros((environment_rows, environment_columns))\n",
        "q_values = np.zeros((environment_rows, environment_columns, 4))\n",
        "q_values_tutor = np.zeros((environment_rows, environment_columns, 4))"
      ]
    },
    {
      "cell_type": "markdown",
      "metadata": {
        "id": "07gGSNz07xtP"
      },
      "source": [
        "#### Actions\n",
        "The actions that are available to the AI agent are to move the robot in one of four directions:\n",
        "* Up\n",
        "* Right\n",
        "* Down\n",
        "* Left\n",
        "\n",
        "Obviously, the AI agent must learn to avoid driving into the item storage locations (e.g., shelves)!\n"
      ]
    },
    {
      "cell_type": "code",
      "execution_count": 3,
      "metadata": {
        "id": "z43QX_t080q3"
      },
      "outputs": [],
      "source": [
        "#define actions\n",
        "#numeric action codes: 0 = up, 1 = right, 2 = down, 3 = left\n",
        "actions = ['up', 'right', 'down', 'left']\n",
        "global cnt\n",
        "cnt = 0\n",
        "global tt\n",
        "tt = 0"
      ]
    },
    {
      "cell_type": "markdown",
      "metadata": {
        "id": "X25vn4VKw2as"
      },
      "source": [
        "#### Rewards\n",
        "The last component of the environment that we need to define are the **rewards**. \n",
        "\n",
        "To help the AI agent learn, each state (location) in the warehouse is assigned a reward value.\n",
        "\n",
        "The agent may begin at any white square, but its goal is always the same: ***to maximize its total rewards***!\n",
        "\n",
        "Negative rewards (i.e., **punishments**) are used for all states except the goal.\n",
        "* This encourages the AI to identify the *shortest path* to the goal by *minimizing its punishments*!\n",
        "\n",
        "![IIT map](iit_map.jpeg)\n",
        "\n",
        "To maximize its cumulative rewards (by minimizing its cumulative punishments), the AI agent will need find the shortest paths between the item packaging area (green square) and all of the other locations in the warehouse where the robot is allowed to travel (white squares). The agent will also need to learn to avoid crashing into any of the item storage locations (black squares)!\n",
        "\n",
        "![Matrix Form](matrix_form.png)"
      ]
    },
    {
      "cell_type": "code",
      "execution_count": 4,
      "metadata": {
        "id": "GIJu7XsLXw62"
      },
      "outputs": [
        {
          "name": "stdout",
          "output_type": "stream",
          "text": [
            "[-1000. -1000. -1000. -1000. -1000. -1000. -1000. -1000.  1000. -1000.\n",
            " -1000. -1000. -1000. -1000.]\n",
            "[-1000. -1000. -1000. -1000. -1000.    -1.    -1.    -1.    -1.    -1.\n",
            "    -1.    -1.    -1.    -1.]\n",
            "[-1000. -1000. -1000. -1000. -1000.    -1. -1000. -1000. -1000.    -1.\n",
            " -1000. -1000. -1000.    -1.]\n",
            "[-1000. -1000. -1000. -1000. -1000.    -1. -1000. -1000. -1000.    -1.\n",
            " -1000. -1000. -1000.    -1.]\n",
            "[-1000. -1000. -1000. -1000. -1000.    -1.    -1.    -1.    -1.    -1.\n",
            "    -1.    -1.    -1. -1000.]\n",
            "[-1000. -1000. -1000. -1000. -1000.    -1. -1000. -1000. -1000.    -1.\n",
            " -1000. -1000. -1000. -1000.]\n",
            "[-1000. -1000.    -1. -1000. -1000.    -1. -1000. -1000. -1000.    -1.\n",
            " -1000. -1000. -1000. -1000.]\n",
            "[-1000. -1000.    -1.    -1.    -1.    -1. -1000. -1000. -1000.    -1.\n",
            " -1000. -1000. -1000. -1000.]\n",
            "[-1000. -1000. -1000. -1000. -1000.    -1.    -1.    -1.    -1.    -1.\n",
            "    -1.    -1. -1000. -1000.]\n",
            "[-1000. -1000. -1000. -1000. -1000.    -1. -1000. -1000. -1000.    -1.\n",
            " -1000. -1000. -1000. -1000.]\n",
            "[-1000.    -1.    -1.    -1.    -1.    -1. -1000. -1000. -1000.    -1.\n",
            " -1000. -1000. -1000. -1000.]\n",
            "[-1000. -1000. -1000. -1000. -1000.    -1.    -1.    -1.    -1.    -1.\n",
            " -1000. -1000. -1000. -1000.]\n",
            "[   -1.    -1.    -1.    -1.    -1.    -1. -1000. -1000. -1000. -1000.\n",
            " -1000. -1000. -1000. -1000.]\n",
            "[-1000. -1000. -1000. -1000. -1000.    -1. -1000. -1000. -1000.    -1.\n",
            " -1000. -1000. -1000. -1000.]\n"
          ]
        }
      ],
      "source": [
        "#Create a 2D numpy array to hold the rewards for each state. \n",
        "#The array contains 11 rows and 11 columns (to match the shape of the environment), and each value is initialized to -100.\n",
        "rewards = np.full((environment_rows, environment_columns), -1000.)\n",
        "rewards[0, 8] = 1000. #set the reward for the packaging area (i.e., the goal) to 100\n",
        "\n",
        "#define aisle locations (i.e., white squares) for rows 1 through 9\n",
        "aisles = {} #store locations in a dictionary\n",
        "aisles[1] = [i for i in range(5, 14)]\n",
        "aisles[2] = [5, 9, 13]\n",
        "aisles[3] = [5, 9, 13]\n",
        "aisles[4] = [i for i in range(5, 13)]\n",
        "aisles[5] = [5, 9]\n",
        "aisles[6] = [2, 5, 9]\n",
        "aisles[7] = [i for i in range(2,6)]\n",
        "aisles[7].append(9)\n",
        "aisles[8] = [i for i in range(5, 12)]\n",
        "aisles[9] = [5, 9]\n",
        "aisles[10] = [i for i in range(1,6)]\n",
        "aisles[10].append(9)\n",
        "aisles[11] = [i for i in range(5,10)]\n",
        "aisles[12] = [i for i in range(0,6)]\n",
        "aisles[13] = [5, 9]\n",
        "\n",
        "x_final  = 0\n",
        "y_final = 8\n",
        "\n",
        "MOST_NEG = -1*1000000\n",
        "N = 6000\n",
        "\n",
        "\n",
        "indeces = [[3,9],[5,0],[9,5]]\n",
        "\n",
        "ideal_reward = [4,7,9] #dummy\n",
        "\n",
        "#set the rewards for all aisle locations (i.e., white squares)\n",
        "for row_index in range(1, 14):\n",
        "  for column_index in aisles[row_index]:\n",
        "    rewards[row_index, column_index] = -1.\n",
        "  \n",
        "#print rewards matrix\n",
        "for row in rewards:\n",
        "  print(row)"
      ]
    },
    {
      "cell_type": "markdown",
      "metadata": {
        "id": "GFEor01iCCin"
      },
      "source": [
        "## Train the Model\n",
        "Our next task is for our AI agent to learn about its environment by implementing a Q-learning model. The learning process will follow these steps:\n",
        "1. Choose a random, non-terminal state (white square) for the agent to begin this new episode.\n",
        "2. Choose an action (move *up*, *right*, *down*, or *left*) for the current state. Actions will be chosen using an *epsilon greedy algorithm*. This algorithm will usually choose the most promising action for the AI agent, but it will occasionally choose a less promising option in order to encourage the agent to explore the environment.\n",
        "3. Perform the chosen action, and transition to the next state (i.e., move to the next location).\n",
        "4. Receive the reward for moving to the new state, and calculate the temporal difference.\n",
        "5. Update the Q-value for the previous state and action pair.\n",
        "6. If the new (current) state is a terminal state, go to #1. Else, go to #2.\n",
        "\n",
        "This entire process will be repeated across 1000 episodes. This will provide the AI agent sufficient opportunity to learn the shortest paths between the item packaging area and all other locations in the warehouse where the robot is allowed to travel, while simultaneously avoiding crashing into any of the item storage locations!\n",
        "\n",
        "#### Define Helper Functions"
      ]
    },
    {
      "cell_type": "code",
      "execution_count": 5,
      "metadata": {
        "id": "DnCfO5tVG0LJ"
      },
      "outputs": [],
      "source": [
        "#define a function that determines if the specified location is a terminal state\n",
        "def is_terminal_state(current_row_index, current_column_index):\n",
        "  #if the reward for this location is -1, then it is not a terminal state (i.e., it is a 'white square')\n",
        "  if rewards[current_row_index, current_column_index] == -1.:\n",
        "    return False\n",
        "  else:\n",
        "    return True\n",
        "\n",
        "#define a function that will choose a random, non-terminal starting location\n",
        "def get_starting_location():\n",
        "  #get a random row and column index\n",
        "  current_row_index = np.random.randint(environment_rows)\n",
        "  current_column_index = np.random.randint(environment_columns)\n",
        "  #continue choosing random row and column indexes until a non-terminal state is identified\n",
        "  #(i.e., until the chosen state is a 'white square').\n",
        "  while is_terminal_state(current_row_index, current_column_index):\n",
        "    current_row_index = np.random.randint(environment_rows)\n",
        "    current_column_index = np.random.randint(environment_columns)\n",
        "  return current_row_index, current_column_index\n",
        "\n",
        "#define an epsilon greedy algorithm that will choose which action to take next (i.e., where to move next)\n",
        "\n",
        "def get_next_action(current_row_index, current_column_index, epsilon):\n",
        "  #if a randomly chosen value between 0 and 1 is less than epsilon, \n",
        "  #then choose the most promising value from the Q-table for this state.\n",
        "  if np.random.random() < epsilon:\n",
        "    return np.argmax(q_values[current_row_index, current_column_index])\n",
        "  else: #choose a random action\n",
        "    return np.random.randint(4)\n",
        "\n",
        "\n",
        "#define a function that will get the next location based on the chosen action\n",
        "def get_next_location(current_row_index, current_column_index, action_index):\n",
        "  new_row_index = current_row_index\n",
        "  new_column_index = current_column_index\n",
        "  if actions[action_index] == 'up' and current_row_index > 0:\n",
        "    new_row_index -= 1\n",
        "  elif actions[action_index] == 'right' and current_column_index < environment_columns - 1:\n",
        "    new_column_index += 1\n",
        "  elif actions[action_index] == 'down' and current_row_index < environment_rows - 1:\n",
        "    new_row_index += 1\n",
        "  elif actions[action_index] == 'left' and current_column_index > 0:\n",
        "    new_column_index -= 1\n",
        "  return new_row_index, new_column_index\n",
        "\n",
        "#Define a function that will get the shortest path between any location within the warehouse that \n",
        "#the robot is allowed to travel and the item packaging location.\n",
        "\n",
        "def get_reward(start_row_index, start_column_index):\n",
        "      #return immediately if this is an invalid starting location\n",
        "  if is_terminal_state(start_row_index, start_column_index):\n",
        "    return MOST_NEG\n",
        "  else: #if this is a 'legal' starting location\n",
        "    current_row_index, current_column_index = start_row_index, start_column_index\n",
        "  #shortest_path = []\n",
        "    reward = 0\n",
        "  if current_row_index == x_final and current_column_index == y_final:\n",
        "    reward  = reward + 100\n",
        "    return reward\n",
        "  else:\n",
        "    reward = reward -1\n",
        "  #shortest_path.append([current_row_index, current_column_index])\n",
        "  #continue moving along the path until we reach the goal (i.e., the item packaging location)\n",
        "  while not is_terminal_state(current_row_index, current_column_index):\n",
        "    #get the best action to take\n",
        "    action_index = get_next_action(current_row_index, current_column_index, 1.)\n",
        "    #move to the next location on the path, and add the new location to the list\n",
        "    current_row_index, current_column_index = get_next_location(current_row_index, current_column_index, action_index)\n",
        "    reward = reward -1\n",
        "    #shortest_path.append([current_row_index, current_column_index])\n",
        "  if current_row_index == x_final and current_column_index == y_final:\n",
        "    reward = reward + 100\n",
        "  else:\n",
        "    reward = reward-100\n",
        "  return reward\n",
        "\n",
        "def get_shortest_path(start_row_index, start_column_index):\n",
        "  #return immediately if this is an invalid starting location\n",
        "  if is_terminal_state(start_row_index, start_column_index):\n",
        "    return []\n",
        "  else: #if this is a 'legal' starting location\n",
        "    current_row_index, current_column_index = start_row_index, start_column_index\n",
        "    shortest_path = []\n",
        "    shortest_path.append([current_row_index, current_column_index])\n",
        "    #continue moving along the path until we reach the goal (i.e., the item packaging location)\n",
        "    while not is_terminal_state(current_row_index, current_column_index):\n",
        "      #get the best action to take\n",
        "      action_index = get_next_action(current_row_index, current_column_index, 1.)\n",
        "      #move to the next location on the path, and add the new location to the list\n",
        "      current_row_index, current_column_index = get_next_location(current_row_index, current_column_index, action_index)\n",
        "      shortest_path.append([current_row_index, current_column_index])\n",
        "    return shortest_path"
      ]
    },
    {
      "cell_type": "markdown",
      "metadata": {},
      "source": [
        "### Helper function for control tutor"
      ]
    },
    {
      "cell_type": "code",
      "execution_count": 16,
      "metadata": {},
      "outputs": [],
      "source": [
        "def f(current_row_index, current_column_index):\n",
        "  x = current_row_index\n",
        "  y = current_column_index\n",
        "  arr = []\n",
        "  # if x>x_final:\n",
        "  #   if (not is_terminal_state(x-1,y)) or rewards[x-1][y] == 100:\n",
        "  #     #return 0\n",
        "  #     arr.append(0)\n",
        "  # if y<y_final:\n",
        "  #   if (not is_terminal_state(x,y+1)) or rewards[x][y+1] == 100:\n",
        "  #     arr.append(1)\n",
        "  # if y>y_final and y<14:\n",
        "  #   if (not is_terminal_state(x,y-1)) or rewards[x][y-1] == 100:\n",
        "  #     arr.append(3)\n",
        "  #return 2\n",
        "  if x>0:\n",
        "    if (not is_terminal_state(x-1,y)) or rewards[x-1][y] == 100:\n",
        "      #return 0\n",
        "      arr.append(0)\n",
        "  if y<13:\n",
        "    if (not is_terminal_state(x,y+1)) or rewards[x][y+1] == 100:\n",
        "      arr.append(1)\n",
        "  if y>0:\n",
        "    if (not is_terminal_state(x,y-1)) or rewards[x][y-1] == 100:\n",
        "      arr.append(3)\n",
        "  if y+1<14:\n",
        "    if (not is_terminal_state(x,y+1)) or rewards[x][y+1] == 100:\n",
        "      arr.append(3)\n",
        "\n",
        "  if len(arr) == 0:\n",
        "    return 0\n",
        "  else:\n",
        "    return arr[np.random.randint(len(arr))]\n",
        "\n",
        "def get_next_action_by_tutor(current_row_index, current_column_index, epsilon):\n",
        "      #if a randomly chosen value between 0 and 1 is less than epsilon, \n",
        "  #then choose the most promising value from the Q-table for this state.\n",
        "  # k = np.argmax(q_values_tutor[current_row_index, current_column_index])\n",
        "  k = np.random.random()\n",
        "  i = current_row_index\n",
        "  j = current_column_index\n",
        "  if k<0.25:\n",
        "      if np.random.random() < epsilon:\n",
        "          return get_next_action(current_row_index, current_column_index, 1.)\n",
        "      else:\n",
        "        return np.random.randint(4)\n",
        "  else:\n",
        "    if np.random.random() < epsilon:\n",
        "        return np.argmax(q_values_tutor[current_row_index, current_column_index])\n",
        "    else: #choose a random action\n",
        "        return np.random.randint(4)\n",
        "  "
      ]
    },
    {
      "cell_type": "code",
      "execution_count": 7,
      "metadata": {},
      "outputs": [],
      "source": [
        "def averageReward(arr):\n",
        "    if len(arr)==0:\n",
        "        return 0\n",
        "    else:\n",
        "        return sum(arr) / len(arr)"
      ]
    },
    {
      "cell_type": "markdown",
      "metadata": {
        "id": "pjl9niKEqONs"
      },
      "source": [
        "## Train the AI Agent using Q-Learning"
      ]
    },
    {
      "cell_type": "code",
      "execution_count": 8,
      "metadata": {},
      "outputs": [],
      "source": [
        "epsilon = 0.9 #the percentage of time when we should take the best action (instead of a random action)\n",
        "discount_factor = 0.9 #discount factor for future rewards\n",
        "learning_rate = 0.9 #the rate at which the AI agent should learn\n",
        "\n",
        "def train():\n",
        "#run through 1000 training episodes\n",
        "  episode_reward = []\n",
        "  average_reward = []\n",
        "  for episode in range(N):\n",
        "    #get the starting location for this episode\n",
        "    row_index, column_index = get_starting_location()\n",
        "\n",
        "    cur_reward = 0 #cur reward of episode\n",
        "    #continue taking actions (i.e., moving) until we reach a terminal state\n",
        "    #(i.e., until we reach the item packaging area or crash into an item storage location)\n",
        "    while not is_terminal_state(row_index, column_index):\n",
        "      #choose which action to take (i.e., where to move next)\n",
        "      action_index = get_next_action(row_index, column_index, epsilon)\n",
        "\n",
        "      #perform the chosen action, and transition to the next state (i.e., move to the next location)\n",
        "      old_row_index, old_column_index = row_index, column_index #store the old row and column indexes\n",
        "      row_index, column_index = get_next_location(row_index, column_index, action_index)\n",
        "      \n",
        "      #receive the reward for moving to the new state, and calculate the temporal difference\n",
        "      reward = rewards[row_index, column_index]\n",
        "      cur_reward+=reward #add reward obtained to current reward\n",
        "\n",
        "      old_q_value = q_values[old_row_index, old_column_index, action_index]\n",
        "      temporal_difference = reward + (discount_factor * np.max(q_values[row_index, column_index])) - old_q_value\n",
        "\n",
        "      #update the Q-value for the previous state and action pair\n",
        "      new_q_value = old_q_value + (learning_rate * temporal_difference)\n",
        "      q_values[old_row_index, old_column_index, action_index] = new_q_value\n",
        "\n",
        "    episode_reward.append(cur_reward) #add reward to the episode\n",
        "    average_reward.append(averageReward(episode_reward))\n",
        "  return episode_reward,average_reward\n",
        "\n"
      ]
    },
    {
      "cell_type": "markdown",
      "metadata": {},
      "source": [
        "## Train the AI Agent using Control Tutored Q-Learning"
      ]
    },
    {
      "cell_type": "code",
      "execution_count": 9,
      "metadata": {
        "id": "3N5BB0m0JHIn"
      },
      "outputs": [],
      "source": [
        "#define training parameters\n",
        "epsilon = 0.9 #the percentage of time when we should take the best action (instead of a random action)\n",
        "discount_factor = 0.9 #discount factor for future rewards\n",
        "learning_rate = 0.9 #the rate at which the AI agent should learn\n",
        "\n",
        "def train_by_tutor():\n",
        "#run through 1000 training episodes\n",
        "  episode_reward = []\n",
        "  average_reward = []\n",
        "  for episode in range(N):\n",
        "    #get the starting location for this episode\n",
        "    row_index, column_index = get_starting_location()\n",
        "    cur_reward = 0\n",
        "    #continue taking actions (i.e., moving) until we reach a terminal state\n",
        "    #(i.e., until we reach the item packaging area or crash into an item storage location)\n",
        "    while not is_terminal_state(row_index, column_index) :#and cur_reward>-200:\n",
        "      #choose which action to take (i.e., where to move next)\n",
        "      action_index = get_next_action_by_tutor(row_index, column_index, epsilon)\n",
        "\n",
        "      #perform the chosen action, and transition to the next state (i.e., move to the next location)\n",
        "      old_row_index, old_column_index = row_index, column_index #store the old row and column indexes\n",
        "      row_index, column_index = get_next_location(row_index, column_index, action_index)\n",
        "      \n",
        "      #receive the reward for moving to the new state, and calculate the temporal difference\n",
        "      reward = rewards[row_index, column_index]\n",
        "      \n",
        "      cur_reward+=reward #add reward obtained to current reward\n",
        "      \n",
        "      old_q_value = q_values_tutor[old_row_index, old_column_index, action_index]\n",
        "      temporal_difference = reward + (discount_factor * np.max(q_values_tutor[row_index, column_index])) - old_q_value\n",
        "\n",
        "      #update the Q-value for the previous state and action pair\n",
        "      new_q_value = old_q_value + (learning_rate * temporal_difference)\n",
        "      q_values_tutor[old_row_index, old_column_index, action_index] = new_q_value\n",
        "    \n",
        "    episode_reward.append(cur_reward) #add reward to the episode\n",
        "    average_reward.append(averageReward(episode_reward))\n",
        "  return episode_reward,average_reward\n"
      ]
    },
    {
      "cell_type": "markdown",
      "metadata": {
        "id": "-JqQfjYdfyBh"
      },
      "source": [
        "## Get Shortest Paths\n"
      ]
    },
    {
      "cell_type": "code",
      "execution_count": 17,
      "metadata": {},
      "outputs": [],
      "source": [
        "#display a few shortest paths\n",
        "classic_reward = train()\n",
        "train()\n",
        "control_tutored_reward = train_by_tutor()\n"
      ]
    },
    {
      "cell_type": "code",
      "execution_count": 18,
      "metadata": {
        "id": "F1YO3mj_oS2J"
      },
      "outputs": [
        {
          "name": "stdout",
          "output_type": "stream",
          "text": [
            "Average Classic Reward-294.5643333333333\n",
            "Average Control Tutored Reward-296.186\n",
            "Maximum Classic Reward-1000.0\n",
            "Maximum Control Tutored Reward-1000.0\n"
          ]
        },
        {
          "data": {
            "image/png": "[encoded data removed]",
            "text/plain": [
              "<Figure size 432x288 with 1 Axes>"
            ]
          },
          "metadata": {
            "needs_background": "light"
          },
          "output_type": "display_data"
        }
      ],
      "source": [
        "\n",
        "cur_reward_classic = classic_reward[0]\n",
        "cur_reward_control_tutor = control_tutored_reward[0]\n",
        "\n",
        "average_reward_classic = classic_reward[1]\n",
        "average_reward_control_tutor = control_tutored_reward[1]\n",
        "\n",
        "print(\"Average Classic Reward-\"+str(average_reward_classic[-1]))\n",
        "print(\"Average Control Tutored Reward-\"+str(average_reward_control_tutor[-1]))\n",
        "\n",
        "print(\"Maximum Classic Reward-\"+str(max(cur_reward_classic)))\n",
        "print(\"Maximum Control Tutored Reward-\"+str(max(cur_reward_control_tutor)))\n",
        "\n",
        "# print(get_shortest_path(3, 9)) #starting at row 3, column 9\n",
        "# print(get_shortest_path(5, 0)) #starting at row 5, column 0\n",
        "# print(get_shortest_path(9, 5)) #starting at row 9, column 5\n",
        "xpoints = [x for x in range(N)]\n",
        "\n",
        "\n",
        "plt.plot(xpoints, average_reward_classic,label = \"Classic\")\n",
        "plt.plot(xpoints, average_reward_control_tutor,label = \"Control Tutored\")\n",
        "plt.legend(loc=\"upper left\")\n",
        "\n",
        "q_values.fill(0)\n",
        "q_values_tutor.fill(0)\n",
        "\n",
        "plt.show()"
      ]
    },
    {
      "cell_type": "code",
      "execution_count": 12,
      "metadata": {},
      "outputs": [],
      "source": [
        "def compareBySession(S):\n",
        "    avg_rew_cl=[]\n",
        "    avg_rew_ct=[]\n",
        "\n",
        "    cur_rew_cl=[]\n",
        "    cur_rew_ct=[]\n",
        "    for i in range(S):\n",
        "        q_values.fill(0)\n",
        "        q_values_tutor.fill(0)\n",
        "        \n",
        "        classic_reward = train()\n",
        "        control_tutored_reward = train_by_tutor()\n",
        "\n",
        "        cur_reward_classic = classic_reward[0]\n",
        "        cur_reward_control_tutor = control_tutored_reward[0]\n",
        "\n",
        "        average_reward_classic = classic_reward[1]\n",
        "        average_reward_control_tutor = control_tutored_reward[1]\n",
        "\n",
        "        cur_rew_cl.append(average_reward_classic[-1])\n",
        "        cur_rew_ct.append(average_reward_control_tutor[-1])\n",
        "\n",
        "        avg_rew_cl.append(averageReward(cur_rew_cl))\n",
        "        avg_rew_ct.append(averageReward(cur_rew_ct))\n",
        "        \n",
        "    return avg_rew_cl, avg_rew_ct\n",
        "\n",
        "\n",
        "\n",
        "        "
      ]
    },
    {
      "cell_type": "code",
      "execution_count": 13,
      "metadata": {},
      "outputs": [],
      "source": [
        "# S=20\n",
        "# xpoints = [x for x in range(S)]\n",
        "\n",
        "# comparisonResult = compareBySession(S)\n",
        "\n",
        "# average_reward_classic = comparisonResult[0]\n",
        "# average_reward_control_tutor = comparisonResult[1]\n",
        "\n",
        "# print(\"Average Classic Reward- \"+str(average_reward_classic[-1]))\n",
        "# print(\"Average Control Tutored Reward- \"+str(average_reward_control_tutor[-1]))\n",
        "\n",
        "# plt.plot(xpoints, average_reward_classic,label = \"Classic\")\n",
        "# plt.plot(xpoints, average_reward_control_tutor,label = \"Control Tutored\")\n",
        "# plt.legend(loc=\"upper left\")\n",
        "\n",
        "# plt.show()"
      ]
    },
    {
      "cell_type": "markdown",
      "metadata": {
        "id": "tWx7BsJxqrDv"
      },
      "source": [
        "#### Finally...\n",
        "It's great that our robot can automatically take the shortest path from any 'legal' location in the warehouse to the item packaging area. **But what about the opposite scenario?**\n",
        "\n",
        "Put differently, our robot can currently deliver an item from anywhere in the warehouse ***to*** the packaging area, but after it delivers the item, it will need to travel ***from*** the packaging area to another location in the warehouse to pick up the next item!\n",
        "\n",
        "Don't worry -- this problem is easily solved simply by ***reversing the order of the shortest path***.\n",
        "\n",
        "Run the code cell below to see an example:"
      ]
    },
    {
      "cell_type": "code",
      "execution_count": 14,
      "metadata": {
        "id": "fKun8LInsas9"
      },
      "outputs": [
        {
          "ename": "KeyboardInterrupt",
          "evalue": "",
          "output_type": "error",
          "traceback": [
            "\u001b[1;31m---------------------------------------------------------------------------\u001b[0m",
            "\u001b[1;31mKeyboardInterrupt\u001b[0m                         Traceback (most recent call last)",
            "\u001b[1;32m~\\AppData\\Local\\Temp/ipykernel_19536/625268907.py\u001b[0m in \u001b[0;36m<module>\u001b[1;34m\u001b[0m\n\u001b[0;32m     13\u001b[0m \u001b[1;32mfor\u001b[0m \u001b[0mi\u001b[0m \u001b[1;32min\u001b[0m \u001b[0mrange\u001b[0m\u001b[1;33m(\u001b[0m\u001b[1;36m0\u001b[0m\u001b[1;33m,\u001b[0m \u001b[0menvironment_columns\u001b[0m\u001b[1;33m)\u001b[0m\u001b[1;33m:\u001b[0m\u001b[1;33m\u001b[0m\u001b[1;33m\u001b[0m\u001b[0m\n\u001b[0;32m     14\u001b[0m     \u001b[1;32mfor\u001b[0m \u001b[0mj\u001b[0m \u001b[1;32min\u001b[0m \u001b[0mrange\u001b[0m\u001b[1;33m(\u001b[0m\u001b[1;36m0\u001b[0m\u001b[1;33m,\u001b[0m \u001b[0menvironment_columns\u001b[0m\u001b[1;33m)\u001b[0m\u001b[1;33m:\u001b[0m\u001b[1;33m\u001b[0m\u001b[1;33m\u001b[0m\u001b[0m\n\u001b[1;32m---> 15\u001b[1;33m         \u001b[0mpath\u001b[0m \u001b[1;33m=\u001b[0m \u001b[0mget_shortest_path\u001b[0m\u001b[1;33m(\u001b[0m\u001b[0mi\u001b[0m\u001b[1;33m,\u001b[0m\u001b[0mj\u001b[0m\u001b[1;33m)\u001b[0m\u001b[1;33m\u001b[0m\u001b[1;33m\u001b[0m\u001b[0m\n\u001b[0m\u001b[0;32m     16\u001b[0m         \u001b[1;32mif\u001b[0m \u001b[0mlen\u001b[0m\u001b[1;33m(\u001b[0m\u001b[0mpath\u001b[0m\u001b[1;33m)\u001b[0m\u001b[1;33m>\u001b[0m\u001b[1;36m1\u001b[0m\u001b[1;33m:\u001b[0m\u001b[1;33m\u001b[0m\u001b[1;33m\u001b[0m\u001b[0m\n\u001b[0;32m     17\u001b[0m             \u001b[0mx\u001b[0m \u001b[1;33m=\u001b[0m \u001b[0mpath\u001b[0m\u001b[1;33m[\u001b[0m\u001b[1;36m1\u001b[0m\u001b[1;33m]\u001b[0m\u001b[1;33m[\u001b[0m\u001b[1;36m0\u001b[0m\u001b[1;33m]\u001b[0m\u001b[1;33m\u001b[0m\u001b[1;33m\u001b[0m\u001b[0m\n",
            "\u001b[1;32m~\\AppData\\Local\\Temp/ipykernel_19536/1042449772.py\u001b[0m in \u001b[0;36mget_shortest_path\u001b[1;34m(start_row_index, start_column_index)\u001b[0m\n\u001b[0;32m     86\u001b[0m     \u001b[1;32mwhile\u001b[0m \u001b[1;32mnot\u001b[0m \u001b[0mis_terminal_state\u001b[0m\u001b[1;33m(\u001b[0m\u001b[0mcurrent_row_index\u001b[0m\u001b[1;33m,\u001b[0m \u001b[0mcurrent_column_index\u001b[0m\u001b[1;33m)\u001b[0m\u001b[1;33m:\u001b[0m\u001b[1;33m\u001b[0m\u001b[1;33m\u001b[0m\u001b[0m\n\u001b[0;32m     87\u001b[0m       \u001b[1;31m#get the best action to take\u001b[0m\u001b[1;33m\u001b[0m\u001b[1;33m\u001b[0m\u001b[0m\n\u001b[1;32m---> 88\u001b[1;33m       \u001b[0maction_index\u001b[0m \u001b[1;33m=\u001b[0m \u001b[0mget_next_action\u001b[0m\u001b[1;33m(\u001b[0m\u001b[0mcurrent_row_index\u001b[0m\u001b[1;33m,\u001b[0m \u001b[0mcurrent_column_index\u001b[0m\u001b[1;33m,\u001b[0m \u001b[1;36m1.\u001b[0m\u001b[1;33m)\u001b[0m\u001b[1;33m\u001b[0m\u001b[1;33m\u001b[0m\u001b[0m\n\u001b[0m\u001b[0;32m     89\u001b[0m       \u001b[1;31m#move to the next location on the path, and add the new location to the list\u001b[0m\u001b[1;33m\u001b[0m\u001b[1;33m\u001b[0m\u001b[0m\n\u001b[0;32m     90\u001b[0m       \u001b[0mcurrent_row_index\u001b[0m\u001b[1;33m,\u001b[0m \u001b[0mcurrent_column_index\u001b[0m \u001b[1;33m=\u001b[0m \u001b[0mget_next_location\u001b[0m\u001b[1;33m(\u001b[0m\u001b[0mcurrent_row_index\u001b[0m\u001b[1;33m,\u001b[0m \u001b[0mcurrent_column_index\u001b[0m\u001b[1;33m,\u001b[0m \u001b[0maction_index\u001b[0m\u001b[1;33m)\u001b[0m\u001b[1;33m\u001b[0m\u001b[1;33m\u001b[0m\u001b[0m\n",
            "\u001b[1;32m~\\AppData\\Local\\Temp/ipykernel_19536/1042449772.py\u001b[0m in \u001b[0;36mget_next_action\u001b[1;34m(current_row_index, current_column_index, epsilon)\u001b[0m\n\u001b[0;32m     25\u001b[0m   \u001b[1;31m#then choose the most promising value from the Q-table for this state.\u001b[0m\u001b[1;33m\u001b[0m\u001b[1;33m\u001b[0m\u001b[0m\n\u001b[0;32m     26\u001b[0m   \u001b[1;32mif\u001b[0m \u001b[0mnp\u001b[0m\u001b[1;33m.\u001b[0m\u001b[0mrandom\u001b[0m\u001b[1;33m.\u001b[0m\u001b[0mrandom\u001b[0m\u001b[1;33m(\u001b[0m\u001b[1;33m)\u001b[0m \u001b[1;33m<\u001b[0m \u001b[0mepsilon\u001b[0m\u001b[1;33m:\u001b[0m\u001b[1;33m\u001b[0m\u001b[1;33m\u001b[0m\u001b[0m\n\u001b[1;32m---> 27\u001b[1;33m     \u001b[1;32mreturn\u001b[0m \u001b[0mnp\u001b[0m\u001b[1;33m.\u001b[0m\u001b[0margmax\u001b[0m\u001b[1;33m(\u001b[0m\u001b[0mq_values\u001b[0m\u001b[1;33m[\u001b[0m\u001b[0mcurrent_row_index\u001b[0m\u001b[1;33m,\u001b[0m \u001b[0mcurrent_column_index\u001b[0m\u001b[1;33m]\u001b[0m\u001b[1;33m)\u001b[0m\u001b[1;33m\u001b[0m\u001b[1;33m\u001b[0m\u001b[0m\n\u001b[0m\u001b[0;32m     28\u001b[0m   \u001b[1;32melse\u001b[0m\u001b[1;33m:\u001b[0m \u001b[1;31m#choose a random action\u001b[0m\u001b[1;33m\u001b[0m\u001b[1;33m\u001b[0m\u001b[0m\n\u001b[0;32m     29\u001b[0m     \u001b[1;32mreturn\u001b[0m \u001b[0mnp\u001b[0m\u001b[1;33m.\u001b[0m\u001b[0mrandom\u001b[0m\u001b[1;33m.\u001b[0m\u001b[0mrandint\u001b[0m\u001b[1;33m(\u001b[0m\u001b[1;36m4\u001b[0m\u001b[1;33m)\u001b[0m\u001b[1;33m\u001b[0m\u001b[1;33m\u001b[0m\u001b[0m\n",
            "\u001b[1;32m<__array_function__ internals>\u001b[0m in \u001b[0;36margmax\u001b[1;34m(*args, **kwargs)\u001b[0m\n",
            "\u001b[1;32mc:\\python39\\lib\\site-packages\\numpy\\core\\fromnumeric.py\u001b[0m in \u001b[0;36margmax\u001b[1;34m(a, axis, out)\u001b[0m\n\u001b[0;32m   1193\u001b[0m \u001b[1;33m\u001b[0m\u001b[0m\n\u001b[0;32m   1194\u001b[0m     \"\"\"\n\u001b[1;32m-> 1195\u001b[1;33m     \u001b[1;32mreturn\u001b[0m \u001b[0m_wrapfunc\u001b[0m\u001b[1;33m(\u001b[0m\u001b[0ma\u001b[0m\u001b[1;33m,\u001b[0m \u001b[1;34m'argmax'\u001b[0m\u001b[1;33m,\u001b[0m \u001b[0maxis\u001b[0m\u001b[1;33m=\u001b[0m\u001b[0maxis\u001b[0m\u001b[1;33m,\u001b[0m \u001b[0mout\u001b[0m\u001b[1;33m=\u001b[0m\u001b[0mout\u001b[0m\u001b[1;33m)\u001b[0m\u001b[1;33m\u001b[0m\u001b[1;33m\u001b[0m\u001b[0m\n\u001b[0m\u001b[0;32m   1196\u001b[0m \u001b[1;33m\u001b[0m\u001b[0m\n\u001b[0;32m   1197\u001b[0m \u001b[1;33m\u001b[0m\u001b[0m\n",
            "\u001b[1;32mc:\\python39\\lib\\site-packages\\numpy\\core\\fromnumeric.py\u001b[0m in \u001b[0;36m_wrapfunc\u001b[1;34m(obj, method, *args, **kwds)\u001b[0m\n\u001b[0;32m     55\u001b[0m \u001b[1;33m\u001b[0m\u001b[0m\n\u001b[0;32m     56\u001b[0m     \u001b[1;32mtry\u001b[0m\u001b[1;33m:\u001b[0m\u001b[1;33m\u001b[0m\u001b[1;33m\u001b[0m\u001b[0m\n\u001b[1;32m---> 57\u001b[1;33m         \u001b[1;32mreturn\u001b[0m \u001b[0mbound\u001b[0m\u001b[1;33m(\u001b[0m\u001b[1;33m*\u001b[0m\u001b[0margs\u001b[0m\u001b[1;33m,\u001b[0m \u001b[1;33m**\u001b[0m\u001b[0mkwds\u001b[0m\u001b[1;33m)\u001b[0m\u001b[1;33m\u001b[0m\u001b[1;33m\u001b[0m\u001b[0m\n\u001b[0m\u001b[0;32m     58\u001b[0m     \u001b[1;32mexcept\u001b[0m \u001b[0mTypeError\u001b[0m\u001b[1;33m:\u001b[0m\u001b[1;33m\u001b[0m\u001b[1;33m\u001b[0m\u001b[0m\n\u001b[0;32m     59\u001b[0m         \u001b[1;31m# A TypeError occurs if the object does have such a method in its\u001b[0m\u001b[1;33m\u001b[0m\u001b[1;33m\u001b[0m\u001b[0m\n",
            "\u001b[1;31mKeyboardInterrupt\u001b[0m: "
          ]
        }
      ],
      "source": [
        "#display an example of reversed shortest path\n",
        "train()\n",
        "def optimum_action(i, j, x, y):\n",
        "    #print(i,j,x,y)\n",
        "    if i>x:\n",
        "        return 0\n",
        "    if i<x:\n",
        "        return 2\n",
        "    if j<y:\n",
        "        return 1\n",
        "    return 3\n",
        "\n",
        "for i in range(0, environment_columns):\n",
        "    for j in range(0, environment_columns):\n",
        "        path = get_shortest_path(i,j)\n",
        "        if len(path)>1:\n",
        "            x = path[1][0]\n",
        "            y = path[1][1]\n",
        "            #print(i,j,x,y)\n",
        "            guddy[i][j] = optimum_action(i,j,x,y)\n",
        "\n",
        "print(optimum_action(0,2,4,5))\n",
        "print(guddy)\n",
        "path = get_shortest_path(10, 1) #go to row 5, column 2\n",
        "print(path)"
      ]
    }
  ],
  "metadata": {
    "colab": {
      "name": "Notebook for Topic 08 Video - Q-Learning - A Complete Example in Python.ipynb",
      "provenance": []
    },
    "kernelspec": {
      "display_name": "Python 3.9.7 64-bit",
      "language": "python",
      "name": "python3"
    },
    "language_info": {
      "codemirror_mode": {
        "name": "ipython",
        "version": 3
      },
      "file_extension": ".py",
      "mimetype": "text/x-python",
      "name": "python",
      "nbconvert_exporter": "python",
      "pygments_lexer": "ipython3",
      "version": "3.9.7"
    },
    "vscode": {
      "interpreter": {
        "hash": "996f2b6e98019c29df53ccff772a8e3fe7cdecb0ba4b3f6ddb9be804d297dd3d"
      }
    }
  },
  "nbformat": 4,
  "nbformat_minor": 0
}
